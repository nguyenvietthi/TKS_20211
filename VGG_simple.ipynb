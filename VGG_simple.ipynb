{
 "cells": [
  {
   "cell_type": "code",
   "execution_count": 2,
   "metadata": {},
   "outputs": [],
   "source": [
    "import tensorflow as tf\n",
    "from tensorflow.keras import layers\n",
    "from tensorflow.keras import Sequential"
   ]
  },
  {
   "cell_type": "code",
   "execution_count": 4,
   "metadata": {},
   "outputs": [
    {
     "name": "stdout",
     "output_type": "stream",
     "text": [
      "Model: \"sequential\"\n",
      "_________________________________________________________________\n",
      " Layer (type)                Output Shape              Param #   \n",
      "=================================================================\n",
      " zeropadding2d_input_1 (Zero  (None, 28, 28, 1)        0         \n",
      " Padding2D)                                                      \n",
      "                                                                 \n",
      " zeropadding2d_1 (ZeroPaddin  (None, 30, 30, 1)        0         \n",
      " g2D)                                                            \n",
      "                                                                 \n",
      " convolution2d_1 (Conv2D)    (None, 28, 28, 4)         40        \n",
      "                                                                 \n",
      " zeropadding2d_2 (ZeroPaddin  (None, 30, 30, 4)        0         \n",
      " g2D)                                                            \n",
      "                                                                 \n",
      " convolution2d_2 (Conv2D)    (None, 28, 28, 4)         148       \n",
      "                                                                 \n",
      " maxpooling2d_1 (MaxPooling2  (None, 14, 14, 4)        0         \n",
      " D)                                                              \n",
      "                                                                 \n",
      " zeropadding2d_3 (ZeroPaddin  (None, 16, 16, 4)        0         \n",
      " g2D)                                                            \n",
      "                                                                 \n",
      " convolution2d_3 (Conv2D)    (None, 14, 14, 8)         296       \n",
      "                                                                 \n",
      " zeropadding2d_4 (ZeroPaddin  (None, 16, 16, 8)        0         \n",
      " g2D)                                                            \n",
      "                                                                 \n",
      " convolution2d_4 (Conv2D)    (None, 14, 14, 8)         584       \n",
      "                                                                 \n",
      " maxpooling2d_2 (MaxPooling2  (None, 7, 7, 8)          0         \n",
      " D)                                                              \n",
      "                                                                 \n",
      " flatten (Flatten)           (None, 392)               0         \n",
      "                                                                 \n",
      " dense (Dense)               (None, 64)                25152     \n",
      "                                                                 \n",
      " dropout (Dropout)           (None, 64)                0         \n",
      "                                                                 \n",
      " dense_1 (Dense)             (None, 64)                4160      \n",
      "                                                                 \n",
      " dropout_1 (Dropout)         (None, 64)                0         \n",
      "                                                                 \n",
      " dense_2 (Dense)             (None, 10)                650       \n",
      "                                                                 \n",
      "=================================================================\n",
      "Total params: 31,030\n",
      "Trainable params: 31,030\n",
      "Non-trainable params: 0\n",
      "_________________________________________________________________\n"
     ]
    }
   ],
   "source": [
    "model = Sequential([\n",
    "    layers.ZeroPadding2D(input_shape=(28, 28, 1), padding=0, name=\"zeropadding2d_input_1\"),\n",
    "    layers.ZeroPadding2D(padding=1, name=\"zeropadding2d_1\"),\n",
    "    layers.Conv2D(4, (3, 3), activation=\"relu\", name=\"convolution2d_1\"),\n",
    "    \n",
    "    layers.ZeroPadding2D(padding=1, name=\"zeropadding2d_2\"),\n",
    "    layers.Conv2D(4, (3, 3), activation=\"relu\", name=\"convolution2d_2\"),\n",
    "    layers.MaxPool2D(name=\"maxpooling2d_1\"),\n",
    "    \n",
    "    layers.ZeroPadding2D(padding=1, name=\"zeropadding2d_3\"),\n",
    "    layers.Conv2D(8, (3, 3), activation=\"relu\", name=\"convolution2d_3\"),\n",
    "    \n",
    "    layers.ZeroPadding2D(padding=1, name=\"zeropadding2d_4\"),\n",
    "    layers.Conv2D(8, (3, 3), activation=\"relu\", name=\"convolution2d_4\"),\n",
    "    layers.MaxPool2D(name=\"maxpooling2d_2\"),\n",
    "    \n",
    "    layers.Flatten(),\n",
    "    layers.Dense(64, activation=\"relu\"),\n",
    "    layers.Dropout(0.2),\n",
    "    layers.Dense(64, activation=\"relu\"),\n",
    "    layers.Dropout(0.2),\n",
    "    layers.Dense(10, activation=\"softmax\"),\n",
    "])\n",
    "\n",
    "model.summary()"
   ]
  }
 ],
 "metadata": {
  "kernelspec": {
   "display_name": "Python 3",
   "language": "python",
   "name": "python3"
  },
  "language_info": {
   "codemirror_mode": {
    "name": "ipython",
    "version": 3
   },
   "file_extension": ".py",
   "mimetype": "text/x-python",
   "name": "python",
   "nbconvert_exporter": "python",
   "pygments_lexer": "ipython3",
   "version": "3.8.5"
  }
 },
 "nbformat": 4,
 "nbformat_minor": 4
}
